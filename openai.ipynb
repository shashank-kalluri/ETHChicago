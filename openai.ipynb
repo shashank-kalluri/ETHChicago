{
 "cells": [
  {
   "cell_type": "code",
   "execution_count": null,
   "metadata": {},
   "outputs": [],
   "source": [
    "response = openai.ChatCompletion.create(\n",
    "    model=\"gpt-4\",\n",
    "    messages=[\n",
    "        {\"role\": \"system\", \"content\": \"You are a technical analyst that will provide a python class that implements a\\\n",
    "          trading algorithm based on text input from a user using the backtrader python module. The class will follow\\\n",
    "           the following format and inheret from backtest: Strategy: class Strategy(bt.Strategy): params = () def __init__(self): def next(self):\"},\n",
    "        {\"role\": \"user\", \"content\": \"Provide me a strategy that takes advantage of moving averages\"},\n",
    "    ]\n",
    ")"
   ]
  },
  {
   "cell_type": "code",
   "execution_count": null,
   "metadata": {},
   "outputs": [],
   "source": [
    "import requests\n",
    "import openai\n",
    "import json\n",
    "\n",
    "openai.api_key = ''"
   ]
  },
  {
   "cell_type": "code",
   "execution_count": 17,
   "metadata": {},
   "outputs": [
    {
     "name": "stdout",
     "output_type": "stream",
     "text": [
      " MovingAverageStrategy(bt.Strategy):\n",
      "    params = (\n",
      "        ('sma_period', 50),  # Period for the simple moving average\n",
      "        ('lma_period', 200)  # Period for the long moving average\n",
      "    )\n",
      "\n",
      "    def __init__(self):\n",
      "        self.sma = bt.indicators.SimpleMovingAverage(self.datas[0], period=self.params.sma_period)\n",
      "        self.lma = bt.indicators.SimpleMovingAverage(self.datas[0], period=self.params.lma_period)\n",
      "\n",
      "    def next(self):\n",
      "        if self.sma > self.lma:  # If SMA crosses above LMA\n",
      "            self.buy()  # Enter a long position\n",
      "        elif self.sma < self.lma:  # If SMA crosses below LMA\n",
      "            self.sell()  # Enter a short position\n",
      "```\n",
      "\n",
      "In this strategy, we define two moving averages: a shorter period simple moving average (SMA) and a longer period simple moving average (LMA). We compare the values of these moving averages in the `next()` method and generate trading signals accordingly.\n",
      "\n",
      "If the SMA crosses above the LMA, we enter a long position by calling `self.buy()`. Conversely, if the SMA crosses below the LMA, we enter a short position by calling `self.sell()`.\n",
      "\n",
      "You can modify the parameters `sma_period` and `lma_period` to experiment with different moving average periods.\n"
     ]
    }
   ],
   "source": [
    "python_code = response['choices'][0]['message']['content'].split('''')\n",
    "print(python_code)"
   ]
  }
 ],
 "metadata": {
  "kernelspec": {
   "display_name": "Python 3",
   "language": "python",
   "name": "python3"
  },
  "language_info": {
   "codemirror_mode": {
    "name": "ipython",
    "version": 3
   },
   "file_extension": ".py",
   "mimetype": "text/x-python",
   "name": "python",
   "nbconvert_exporter": "python",
   "pygments_lexer": "ipython3",
   "version": "3.10.8"
  },
  "orig_nbformat": 4
 },
 "nbformat": 4,
 "nbformat_minor": 2
}
